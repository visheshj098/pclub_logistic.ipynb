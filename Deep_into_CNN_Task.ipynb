{
 "cells": [
  {
   "cell_type": "code",
   "execution_count": 3,
   "metadata": {
    "id": "CkDCLRs6BqbF"
   },
   "outputs": [],
   "source": [
    "import numpy as np\n",
    "import pandas as pd\n"
   ]
  },
  {
   "cell_type": "code",
   "execution_count": 4,
   "metadata": {
    "id": "_8_LH-EFBqbZ"
   },
   "outputs": [],
   "source": [
    "df = pd.read_csv('diabetes2.csv')"
   ]
  },
  {
   "cell_type": "code",
   "execution_count": 5,
   "metadata": {
    "colab": {
     "base_uri": "https://localhost:8080/",
     "height": 204
    },
    "id": "x9UbkuSaBqba",
    "outputId": "b3405114-1f18-45ac-eaf9-518d766ff768"
   },
   "outputs": [
    {
     "data": {
      "text/html": [
       "<div>\n",
       "<style scoped>\n",
       "    .dataframe tbody tr th:only-of-type {\n",
       "        vertical-align: middle;\n",
       "    }\n",
       "\n",
       "    .dataframe tbody tr th {\n",
       "        vertical-align: top;\n",
       "    }\n",
       "\n",
       "    .dataframe thead th {\n",
       "        text-align: right;\n",
       "    }\n",
       "</style>\n",
       "<table border=\"1\" class=\"dataframe\">\n",
       "  <thead>\n",
       "    <tr style=\"text-align: right;\">\n",
       "      <th></th>\n",
       "      <th>Pregnancies</th>\n",
       "      <th>Glucose</th>\n",
       "      <th>BloodPressure</th>\n",
       "      <th>SkinThickness</th>\n",
       "      <th>Insulin</th>\n",
       "      <th>BMI</th>\n",
       "      <th>DiabetesPedigreeFunction</th>\n",
       "      <th>Age</th>\n",
       "      <th>Outcome</th>\n",
       "    </tr>\n",
       "  </thead>\n",
       "  <tbody>\n",
       "    <tr>\n",
       "      <th>0</th>\n",
       "      <td>6</td>\n",
       "      <td>148</td>\n",
       "      <td>72</td>\n",
       "      <td>35</td>\n",
       "      <td>0</td>\n",
       "      <td>33.6</td>\n",
       "      <td>0.627</td>\n",
       "      <td>50</td>\n",
       "      <td>1</td>\n",
       "    </tr>\n",
       "    <tr>\n",
       "      <th>1</th>\n",
       "      <td>1</td>\n",
       "      <td>85</td>\n",
       "      <td>66</td>\n",
       "      <td>29</td>\n",
       "      <td>0</td>\n",
       "      <td>26.6</td>\n",
       "      <td>0.351</td>\n",
       "      <td>31</td>\n",
       "      <td>0</td>\n",
       "    </tr>\n",
       "    <tr>\n",
       "      <th>2</th>\n",
       "      <td>8</td>\n",
       "      <td>183</td>\n",
       "      <td>64</td>\n",
       "      <td>0</td>\n",
       "      <td>0</td>\n",
       "      <td>23.3</td>\n",
       "      <td>0.672</td>\n",
       "      <td>32</td>\n",
       "      <td>1</td>\n",
       "    </tr>\n",
       "    <tr>\n",
       "      <th>3</th>\n",
       "      <td>1</td>\n",
       "      <td>89</td>\n",
       "      <td>66</td>\n",
       "      <td>23</td>\n",
       "      <td>94</td>\n",
       "      <td>28.1</td>\n",
       "      <td>0.167</td>\n",
       "      <td>21</td>\n",
       "      <td>0</td>\n",
       "    </tr>\n",
       "    <tr>\n",
       "      <th>4</th>\n",
       "      <td>0</td>\n",
       "      <td>137</td>\n",
       "      <td>40</td>\n",
       "      <td>35</td>\n",
       "      <td>168</td>\n",
       "      <td>43.1</td>\n",
       "      <td>2.288</td>\n",
       "      <td>33</td>\n",
       "      <td>1</td>\n",
       "    </tr>\n",
       "  </tbody>\n",
       "</table>\n",
       "</div>"
      ],
      "text/plain": [
       "   Pregnancies  Glucose  BloodPressure  SkinThickness  Insulin   BMI  \\\n",
       "0            6      148             72             35        0  33.6   \n",
       "1            1       85             66             29        0  26.6   \n",
       "2            8      183             64              0        0  23.3   \n",
       "3            1       89             66             23       94  28.1   \n",
       "4            0      137             40             35      168  43.1   \n",
       "\n",
       "   DiabetesPedigreeFunction  Age  Outcome  \n",
       "0                     0.627   50        1  \n",
       "1                     0.351   31        0  \n",
       "2                     0.672   32        1  \n",
       "3                     0.167   21        0  \n",
       "4                     2.288   33        1  "
      ]
     },
     "execution_count": 5,
     "metadata": {},
     "output_type": "execute_result"
    }
   ],
   "source": [
    "df.head()"
   ]
  },
  {
   "cell_type": "code",
   "execution_count": 6,
   "metadata": {
    "colab": {
     "base_uri": "https://localhost:8080/"
    },
    "id": "HfPmzn5DBqbc",
    "outputId": "0e0f5bce-7961-4264-dcb6-7aff895b598e"
   },
   "outputs": [
    {
     "data": {
      "text/plain": [
       "Index(['Pregnancies', 'Glucose', 'BloodPressure', 'SkinThickness', 'Insulin',\n",
       "       'BMI', 'DiabetesPedigreeFunction', 'Age', 'Outcome'],\n",
       "      dtype='object')"
      ]
     },
     "execution_count": 6,
     "metadata": {},
     "output_type": "execute_result"
    }
   ],
   "source": [
    "df.columns"
   ]
  },
  {
   "cell_type": "code",
   "execution_count": 7,
   "metadata": {
    "colab": {
     "base_uri": "https://localhost:8080/"
    },
    "id": "cbs5k37IBqbd",
    "outputId": "88c3c40b-c807-465f-92f0-375e871bc5d0"
   },
   "outputs": [
    {
     "name": "stdout",
     "output_type": "stream",
     "text": [
      "<class 'pandas.core.frame.DataFrame'>\n",
      "RangeIndex: 768 entries, 0 to 767\n",
      "Data columns (total 9 columns):\n",
      " #   Column                    Non-Null Count  Dtype  \n",
      "---  ------                    --------------  -----  \n",
      " 0   Pregnancies               768 non-null    int64  \n",
      " 1   Glucose                   768 non-null    int64  \n",
      " 2   BloodPressure             768 non-null    int64  \n",
      " 3   SkinThickness             768 non-null    int64  \n",
      " 4   Insulin                   768 non-null    int64  \n",
      " 5   BMI                       768 non-null    float64\n",
      " 6   DiabetesPedigreeFunction  768 non-null    float64\n",
      " 7   Age                       768 non-null    int64  \n",
      " 8   Outcome                   768 non-null    int64  \n",
      "dtypes: float64(2), int64(7)\n",
      "memory usage: 54.1 KB\n"
     ]
    }
   ],
   "source": [
    "df.info()"
   ]
  },
  {
   "cell_type": "code",
   "execution_count": null,
   "metadata": {
    "colab": {
     "base_uri": "https://localhost:8080/",
     "height": 317
    },
    "id": "a6tIIMxfBqbe",
    "outputId": "a29fdb56-035b-4dc2-fa2f-6777c184d024"
   },
   "outputs": [],
   "source": [
    "df.describe()"
   ]
  },
  {
   "cell_type": "code",
   "execution_count": 8,
   "metadata": {
    "colab": {
     "base_uri": "https://localhost:8080/"
    },
    "id": "00LoGFaCBqbf",
    "outputId": "fbf0dce4-4104-4aa2-c1df-ada9492a5e5b"
   },
   "outputs": [
    {
     "data": {
      "text/plain": [
       "Pregnancies                 0.0\n",
       "Glucose                     0.0\n",
       "BloodPressure               0.0\n",
       "SkinThickness               0.0\n",
       "Insulin                     0.0\n",
       "BMI                         0.0\n",
       "DiabetesPedigreeFunction    0.0\n",
       "Age                         0.0\n",
       "Outcome                     0.0\n",
       "dtype: float64"
      ]
     },
     "execution_count": 8,
     "metadata": {},
     "output_type": "execute_result"
    }
   ],
   "source": [
    "df.isnull().sum()*100/df.isnull().count()"
   ]
  },
  {
   "cell_type": "code",
   "execution_count": 9,
   "metadata": {
    "id": "g5_i5biQBqbg"
   },
   "outputs": [],
   "source": [
    "def outlier_count(col, data=df):\n",
    "    print(15*'-' + col + 15*'-')\n",
    "    q75, q25 = np.percentile(data[col], [75, 25])\n",
    "    iqr = q75 - q25\n",
    "    min_val = q25 - (iqr*1.5)\n",
    "    max_val = q75 + (iqr*1.5)\n",
    "    outlier_count = len(np.where((data[col] > max_val) | (data[col] < min_val))[0])\n",
    "    outlier_percent = round(outlier_count/len(data[col])*100, 2)\n",
    "    print('Number of outliers: {}'.format(outlier_count))\n",
    "    print('Percent of data that is outlier: {}%'.format(outlier_percent))"
   ]
  },
  {
   "cell_type": "code",
   "execution_count": 10,
   "metadata": {
    "id": "WJAOcrSYBqbh"
   },
   "outputs": [],
   "source": [
    "cont_vars = list(df.columns)"
   ]
  },
  {
   "cell_type": "code",
   "execution_count": 11,
   "metadata": {
    "colab": {
     "base_uri": "https://localhost:8080/"
    },
    "id": "2VHUX3-KBqbi",
    "outputId": "3781ed38-0db3-431c-839e-adf3232d9531"
   },
   "outputs": [
    {
     "name": "stdout",
     "output_type": "stream",
     "text": [
      "---------------Pregnancies---------------\n",
      "Number of outliers: 4\n",
      "Percent of data that is outlier: 0.52%\n",
      "---------------Glucose---------------\n",
      "Number of outliers: 5\n",
      "Percent of data that is outlier: 0.65%\n",
      "---------------BloodPressure---------------\n",
      "Number of outliers: 45\n",
      "Percent of data that is outlier: 5.86%\n",
      "---------------SkinThickness---------------\n",
      "Number of outliers: 1\n",
      "Percent of data that is outlier: 0.13%\n",
      "---------------Insulin---------------\n",
      "Number of outliers: 34\n",
      "Percent of data that is outlier: 4.43%\n",
      "---------------BMI---------------\n",
      "Number of outliers: 19\n",
      "Percent of data that is outlier: 2.47%\n",
      "---------------DiabetesPedigreeFunction---------------\n",
      "Number of outliers: 29\n",
      "Percent of data that is outlier: 3.78%\n",
      "---------------Age---------------\n",
      "Number of outliers: 9\n",
      "Percent of data that is outlier: 1.17%\n",
      "---------------Outcome---------------\n",
      "Number of outliers: 0\n",
      "Percent of data that is outlier: 0.0%\n"
     ]
    }
   ],
   "source": [
    "for col in cont_vars:\n",
    "    outlier_count(col)"
   ]
  },
  {
   "cell_type": "code",
   "execution_count": 12,
   "metadata": {
    "id": "MBZBnYsJBqbj"
   },
   "outputs": [],
   "source": [
    "from sklearn.model_selection import train_test_split\n",
    "from sklearn.linear_model import LogisticRegression\n",
    "from sklearn.metrics import classification_report, confusion_matrix"
   ]
  },
  {
   "cell_type": "code",
   "execution_count": 21,
   "metadata": {
    "id": "aq4e0Y_EBqbk"
   },
   "outputs": [],
   "source": [
    "X = df[['Pregnancies', 'Glucose', 'BloodPressure', 'SkinThickness', 'Insulin',\n",
    "       'BMI', 'DiabetesPedigreeFunction', 'Age']]"
   ]
  },
  {
   "cell_type": "code",
   "execution_count": 22,
   "metadata": {
    "id": "hHC0EMvaBqbk"
   },
   "outputs": [],
   "source": [
    "Y = df['Outcome']"
   ]
  },
  {
   "cell_type": "code",
   "execution_count": 23,
   "metadata": {
    "id": "2ctMe98_Bqbl"
   },
   "outputs": [],
   "source": [
    "X_train, X_test, Y_train, Y_test = train_test_split(X, Y, test_size=0.2)\n",
    "#we are not using random_state variable to ensure split is being done randomly"
   ]
  },
  {
   "cell_type": "code",
   "execution_count": 24,
   "metadata": {
    "id": "hECiBpBWBqbm"
   },
   "outputs": [],
   "source": [
    "model = LogisticRegression(random_state=0)"
   ]
  },
  {
   "cell_type": "code",
   "execution_count": 25,
   "metadata": {
    "colab": {
     "base_uri": "https://localhost:8080/"
    },
    "id": "dLDpHw4PBqbn",
    "outputId": "c0491fef-4bea-471f-88e8-75c86def3731"
   },
   "outputs": [
    {
     "name": "stderr",
     "output_type": "stream",
     "text": [
      "C:\\Users\\asus\\anaconda3\\lib\\site-packages\\sklearn\\linear_model\\_logistic.py:762: ConvergenceWarning: lbfgs failed to converge (status=1):\n",
      "STOP: TOTAL NO. of ITERATIONS REACHED LIMIT.\n",
      "\n",
      "Increase the number of iterations (max_iter) or scale the data as shown in:\n",
      "    https://scikit-learn.org/stable/modules/preprocessing.html\n",
      "Please also refer to the documentation for alternative solver options:\n",
      "    https://scikit-learn.org/stable/modules/linear_model.html#logistic-regression\n",
      "  n_iter_i = _check_optimize_result(\n"
     ]
    },
    {
     "data": {
      "text/plain": [
       "LogisticRegression(random_state=0)"
      ]
     },
     "execution_count": 25,
     "metadata": {},
     "output_type": "execute_result"
    }
   ],
   "source": [
    "model.fit(X_train, Y_train)"
   ]
  },
  {
   "cell_type": "code",
   "execution_count": 26,
   "metadata": {
    "id": "Qqgmp539Bqbo"
   },
   "outputs": [],
   "source": [
    "model = LogisticRegression(solver='liblinear', random_state=0).fit(X_train, Y_train)"
   ]
  },
  {
   "cell_type": "code",
   "execution_count": 27,
   "metadata": {
    "colab": {
     "base_uri": "https://localhost:8080/"
    },
    "id": "8GbGxhkmBqbo",
    "outputId": "7ef8c008-2366-4cbb-d576-e622f0f95501"
   },
   "outputs": [
    {
     "data": {
      "text/plain": [
       "array([0, 1], dtype=int64)"
      ]
     },
     "execution_count": 27,
     "metadata": {},
     "output_type": "execute_result"
    }
   ],
   "source": [
    "model.classes_"
   ]
  },
  {
   "cell_type": "code",
   "execution_count": 28,
   "metadata": {
    "colab": {
     "base_uri": "https://localhost:8080/"
    },
    "id": "EAzSOTcgBqbq",
    "outputId": "938b4051-8d76-4b20-cceb-75c7bb9e30ad"
   },
   "outputs": [
    {
     "data": {
      "text/plain": [
       "array([-5.38318143])"
      ]
     },
     "execution_count": 28,
     "metadata": {},
     "output_type": "execute_result"
    }
   ],
   "source": [
    "model.intercept_"
   ]
  },
  {
   "cell_type": "code",
   "execution_count": 29,
   "metadata": {
    "colab": {
     "base_uri": "https://localhost:8080/"
    },
    "id": "G3FQCedjBqbr",
    "outputId": "0d8ee9ef-90e1-47ec-cd6a-c471fe7b846d"
   },
   "outputs": [
    {
     "data": {
      "text/plain": [
       "array([[ 1.20970985e-01,  2.69526001e-02, -1.55003995e-02,\n",
       "         1.13186257e-03,  4.99891202e-05,  4.75385087e-02,\n",
       "         8.24799209e-01,  2.21710881e-03]])"
      ]
     },
     "execution_count": 29,
     "metadata": {},
     "output_type": "execute_result"
    }
   ],
   "source": [
    "model.coef_"
   ]
  },
  {
   "cell_type": "code",
   "execution_count": 30,
   "metadata": {
    "id": "ESUgc5-UBqbu"
   },
   "outputs": [],
   "source": [
    "predict = model.predict(X_test)"
   ]
  },
  {
   "cell_type": "code",
   "execution_count": 31,
   "metadata": {
    "colab": {
     "base_uri": "https://localhost:8080/"
    },
    "id": "ga4Qbn5IBqbv",
    "outputId": "6ced5fac-fa55-4593-f63e-6658aeef15a7"
   },
   "outputs": [
    {
     "data": {
      "text/plain": [
       "0.7727272727272727"
      ]
     },
     "execution_count": 31,
     "metadata": {},
     "output_type": "execute_result"
    }
   ],
   "source": [
    "model.score(X_test, Y_test)"
   ]
  },
  {
   "cell_type": "code",
   "execution_count": 32,
   "metadata": {
    "colab": {
     "base_uri": "https://localhost:8080/"
    },
    "id": "3NZbtqQ2Bqby",
    "outputId": "d7b41f09-d958-495b-e119-9d013604f6da"
   },
   "outputs": [
    {
     "data": {
      "text/plain": [
       "array([[87, 11],\n",
       "       [24, 32]], dtype=int64)"
      ]
     },
     "execution_count": 32,
     "metadata": {},
     "output_type": "execute_result"
    }
   ],
   "source": [
    "confusion_matrix(Y_test, predict)"
   ]
  },
  {
   "cell_type": "code",
   "execution_count": 33,
   "metadata": {
    "colab": {
     "base_uri": "https://localhost:8080/"
    },
    "id": "z3vTYiSQBqb4",
    "outputId": "735012a7-7e4f-4f8e-d681-42bbd32c1113"
   },
   "outputs": [
    {
     "name": "stdout",
     "output_type": "stream",
     "text": [
      "              precision    recall  f1-score   support\n",
      "\n",
      "           0       0.78      0.89      0.83        98\n",
      "           1       0.74      0.57      0.65        56\n",
      "\n",
      "    accuracy                           0.77       154\n",
      "   macro avg       0.76      0.73      0.74       154\n",
      "weighted avg       0.77      0.77      0.76       154\n",
      "\n"
     ]
    }
   ],
   "source": [
    "print(classification_report(Y_test, predict))"
   ]
  },
  {
   "cell_type": "code",
   "execution_count": 34,
   "metadata": {
    "id": "LoFjQSo8HGjK"
   },
   "outputs": [],
   "source": [
    "X_std = np.copy(X)\n",
    "\n",
    "X_std[:,0] = (X_std[:,0] - X_std[:,0].mean()) / X_std[:,0].std()\n",
    "X_std[:,1] = (X_std[:,1] - X_std[:,1].mean()) / X_std[:,1].std()"
   ]
  },
  {
   "cell_type": "code",
   "execution_count": 35,
   "metadata": {
    "id": "IUM-LnNpaMBA"
   },
   "outputs": [],
   "source": [
    "# Define Logistic Regression hypothesis or sigmoid function\n",
    "\n",
    "def sigmoid(X, theta):\n",
    "    \n",
    "    z = np.dot(X, theta[1:]) + theta[0]\n",
    "    \n",
    "    return 1.0 / ( 1.0 + np.exp(-z))"
   ]
  },
  {
   "cell_type": "code",
   "execution_count": 36,
   "metadata": {
    "id": "atL5v3zQBqb4"
   },
   "outputs": [],
   "source": [
    "def lrCostFunction(Y, hx):\n",
    "  \n",
    "    # compute cost for given theta parameters\n",
    "    j = -Y.dot(np.log(hx)) - ((1 - Y).dot(np.log(1-hx)))\n",
    "    \n",
    "    return j"
   ]
  },
  {
   "cell_type": "code",
   "execution_count": 37,
   "metadata": {
    "id": "oGRzF3n5GmoY"
   },
   "outputs": [],
   "source": [
    "def lrGradient(X, Y, theta, alpha, num_iter):\n",
    "    # empty list to store the value of the cost function over number of iterations\n",
    "    cost = []\n",
    "    \n",
    "    for i in range(num_iter):\n",
    "        # call sigmoid function \n",
    "        hx = sigmoid(X, theta)\n",
    "        # calculate error\n",
    "        error = hx - Y\n",
    "        # calculate gradient\n",
    "        grad = X.T.dot(error)\n",
    "        # update values in theta\n",
    "        theta[0] = theta[0] - alpha * error.sum()\n",
    "        theta[1:] = theta[1:] - alpha * grad\n",
    "        \n",
    "        cost.append(lrCostFunction(Y, hx))\n",
    "        \n",
    "    return cost     "
   ]
  },
  {
   "cell_type": "code",
   "execution_count": 38,
   "metadata": {
    "colab": {
     "base_uri": "https://localhost:8080/"
    },
    "id": "tdW4UEilGwtH",
    "outputId": "c06973da-98e0-4b52-c35f-1a752edfe7dc"
   },
   "outputs": [
    {
     "name": "stderr",
     "output_type": "stream",
     "text": [
      "<ipython-input-35-0091161017b0>:7: RuntimeWarning: overflow encountered in exp\n",
      "  return 1.0 / ( 1.0 + np.exp(-z))\n",
      "<ipython-input-36-c02faef05b53>:4: RuntimeWarning: divide by zero encountered in log\n",
      "  j = -Y.dot(np.log(hx)) - ((1 - Y).dot(np.log(1-hx)))\n"
     ]
    }
   ],
   "source": [
    "m, n = X.shape\n",
    "\n",
    "# initialize theta(weights) parameters to zeros\n",
    "theta = np.zeros(1+n)\n",
    "\n",
    "# set learning rate to 0.01 and number of iterations to 500\n",
    "alpha = 0.01\n",
    "num_iter = 500\n",
    "\n",
    "cost = lrGradient(X_std, Y, theta, alpha, num_iter)"
   ]
  },
  {
   "cell_type": "code",
   "execution_count": 39,
   "metadata": {
    "colab": {
     "base_uri": "https://localhost:8080/"
    },
    "id": "ydUDEnC3Jyao",
    "outputId": "47e3266f-0921-4682-a36f-0cc9ae328ea6"
   },
   "outputs": [
    {
     "name": "stdout",
     "output_type": "stream",
     "text": [
      "\n",
      " Logisitc Regression bias(intercept) term : -141.1396437856634\n",
      "\n",
      " Logisitc Regression estimated coefficients : [409.7981491  781.52456618 -32.6442238  -80.18011307 100.25294793\n",
      " 121.57896558  32.96245481 249.46074741]\n"
     ]
    }
   ],
   "source": [
    "print ('\\n Logisitc Regression bias(intercept) term :', theta[0])\n",
    "print ('\\n Logisitc Regression estimated coefficients :', theta[1:])"
   ]
  },
  {
   "cell_type": "code",
   "execution_count": 40,
   "metadata": {
    "id": "a7WfX1oOeQ-F"
   },
   "outputs": [],
   "source": [
    "def lrPredict(X):\n",
    "    \n",
    "    return np.where(sigmoid(X,theta) >= 0.5, 1, 0)"
   ]
  },
  {
   "cell_type": "code",
   "execution_count": null,
   "metadata": {
    "id": "ILlgKkRugjik"
   },
   "outputs": [],
   "source": [
    "model.intercept_ = -141.10642916992526"
   ]
  },
  {
   "cell_type": "code",
   "execution_count": null,
   "metadata": {
    "id": "b4Pou_AogtWq"
   },
   "outputs": [],
   "source": [
    "model.coef_ = [[ 403.01394505,  775.22842044,-138.02126201,  -49.62383344 , 193.29476266,\n",
    "   86.55557229 ,  32.8753586,   150.57091712]]"
   ]
  },
  {
   "cell_type": "code",
   "execution_count": null,
   "metadata": {
    "id": "HDzUx3v3gW0P"
   },
   "outputs": [],
   "source": []
  }
 ],
 "metadata": {
  "colab": {
   "name": "Deep Into CNN.ipynb",
   "provenance": []
  },
  "kernelspec": {
   "display_name": "Python 3",
   "language": "python",
   "name": "python3"
  },
  "language_info": {
   "codemirror_mode": {
    "name": "ipython",
    "version": 3
   },
   "file_extension": ".py",
   "mimetype": "text/x-python",
   "name": "python",
   "nbconvert_exporter": "python",
   "pygments_lexer": "ipython3",
   "version": "3.8.3"
  }
 },
 "nbformat": 4,
 "nbformat_minor": 1
}
